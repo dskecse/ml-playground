{
 "cells": [
  {
   "cell_type": "code",
   "execution_count": 3,
   "id": "da1212ef-6f73-4d4e-bae0-561c55b4e8d1",
   "metadata": {},
   "outputs": [],
   "source": [
    "import os\n",
    "import pandas as pd\n",
    "from sklearn.tree import DecisionTreeClassifier\n",
    "from sklearn import tree\n",
    "\n",
    "music_data = pd.read_csv(os.path.join(\"..\", \"datasets\", \"music.csv\"))\n",
    "X = music_data.drop(columns=[\"genre\"])\n",
    "y = music_data[\"genre\"]\n",
    "\n",
    "model = DecisionTreeClassifier()\n",
    "model.fit(X, y)\n",
    "\n",
    "out_file = os.path.join(\"..\", \"music-recommender.dot\")\n",
    "tree.export_graphviz(model, out_file=out_file,\n",
    "                            feature_names=X.columns, # [\"age\", \"gender\"]\n",
    "                            class_names=sorted(y.unique()),\n",
    "                            label=\"all\",\n",
    "                            rounded=True,\n",
    "                            filled=True)"
   ]
  }
 ],
 "metadata": {
  "kernelspec": {
   "display_name": "Python 3 (ipykernel)",
   "language": "python",
   "name": "python3"
  },
  "language_info": {
   "codemirror_mode": {
    "name": "ipython",
    "version": 3
   },
   "file_extension": ".py",
   "mimetype": "text/x-python",
   "name": "python",
   "nbconvert_exporter": "python",
   "pygments_lexer": "ipython3",
   "version": "3.13.7"
  }
 },
 "nbformat": 4,
 "nbformat_minor": 5
}
