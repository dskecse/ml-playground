{
 "cells": [
  {
   "cell_type": "code",
   "execution_count": 32,
   "id": "7c5c34c5-7813-4a61-a14d-389773ecfcfd",
   "metadata": {},
   "outputs": [
    {
     "data": {
      "text/plain": [
       "1.0"
      ]
     },
     "execution_count": 32,
     "metadata": {},
     "output_type": "execute_result"
    }
   ],
   "source": [
    "import os\n",
    "import pandas as pd\n",
    "from sklearn.tree import DecisionTreeClassifier\n",
    "from sklearn.model_selection import train_test_split\n",
    "from sklearn.metrics import accuracy_score\n",
    "\n",
    "TEST_SET_RATIO = 0.2\n",
    "\n",
    "music_data = pd.read_csv(os.path.join(\"..\", \"datasets\", \"music.csv\")) # import the dataset\n",
    "X = music_data.drop(columns=[\"genre\"]) # create an input set\n",
    "y = music_data[\"genre\"] # create an output set\n",
    "X_train, X_test, y_train, y_test = train_test_split(X, y, test_size=TEST_SET_RATIO)\n",
    "\n",
    "model = DecisionTreeClassifier() # create a model\n",
    "model.fit(X_train, y_train) # train the model, takes 2 sets: input & output set for training\n",
    "predictions = model.predict(X_test) # make predictions\n",
    "\n",
    "score = accuracy_score(y_test, predictions) # compare expected values & predictions, score: 0 and 1\n",
    "score"
   ]
  }
 ],
 "metadata": {
  "kernelspec": {
   "display_name": "Python 3 (ipykernel)",
   "language": "python",
   "name": "python3"
  },
  "language_info": {
   "codemirror_mode": {
    "name": "ipython",
    "version": 3
   },
   "file_extension": ".py",
   "mimetype": "text/x-python",
   "name": "python",
   "nbconvert_exporter": "python",
   "pygments_lexer": "ipython3",
   "version": "3.13.7"
  }
 },
 "nbformat": 4,
 "nbformat_minor": 5
}
