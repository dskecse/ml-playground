{
 "cells": [
  {
   "cell_type": "code",
   "execution_count": 21,
   "id": "e33c7edb-1ee1-4031-be1f-2e8d943bc107",
   "metadata": {},
   "outputs": [
    {
     "data": {
      "text/plain": [
       "array(['HipHop', 'Dance'], dtype=object)"
      ]
     },
     "execution_count": 21,
     "metadata": {},
     "output_type": "execute_result"
    }
   ],
   "source": [
    "import os\n",
    "import pandas as pd\n",
    "from sklearn.tree import DecisionTreeClassifier\n",
    "\n",
    "music_data = pd.read_csv(os.path.join(\"..\", \"datasets\", \"music.csv\")) # import the dataset\n",
    "X = music_data.drop(columns=[\"genre\"]) # create an input set\n",
    "y = music_data[\"genre\"] # create an output set\n",
    "\n",
    "model = DecisionTreeClassifier() # create a model\n",
    "model.fit(X, y) # train the model, takes 2 datasets: input & output set\n",
    "\n",
    "# make predictions for a 21-year-old male & a 22-year-old female\n",
    "# predictions = model.predict([ [21, 1], [22, 0] ]) # produces a warning!\n",
    "predictions = model.predict(pd.DataFrame([ [21, 1], [22, 0] ], columns=[\"age\", \"gender\"])) # resolves the warning\n",
    "predictions"
   ]
  },
  {
   "cell_type": "code",
   "execution_count": null,
   "id": "b57b2801-fc56-4196-8621-23ebcbe2df6a",
   "metadata": {},
   "outputs": [],
   "source": []
  }
 ],
 "metadata": {
  "kernelspec": {
   "display_name": "Python 3 (ipykernel)",
   "language": "python",
   "name": "python3"
  },
  "language_info": {
   "codemirror_mode": {
    "name": "ipython",
    "version": 3
   },
   "file_extension": ".py",
   "mimetype": "text/x-python",
   "name": "python",
   "nbconvert_exporter": "python",
   "pygments_lexer": "ipython3",
   "version": "3.13.7"
  }
 },
 "nbformat": 4,
 "nbformat_minor": 5
}
